{
 "nbformat": 4,
 "nbformat_minor": 0,
 "metadata": {
  "colab": {
   "provenance": [],
   "authorship_tag": "ABX9TyMf4MhlSZqOZJg30jKp7O+l"
  },
  "kernelspec": {
   "name": "python3",
   "display_name": "Python 3"
  },
  "language_info": {
   "name": "python"
  }
 },
 "cells": [
  {
   "cell_type": "code",
   "metadata": {
    "colab": {
     "base_uri": "https://localhost:8080/"
    },
    "id": "v78YaffiAQkY",
    "executionInfo": {
     "status": "ok",
     "timestamp": 1742837579856,
     "user_tz": 0,
     "elapsed": 3267,
     "user": {
      "displayName": "Mohammad Nezamipoor",
      "userId": "18397506278047624525"
     }
    },
    "outputId": "ad84148a-9d58-47e5-ef89-d3469a379300"
   },
   "source": [
    "# %%capture\n",
    "import os\n",
    "from google.colab import drive\n",
    "\n",
    "print(\"Mounting Google Drive...\")\n",
    "drive.mount('/content/drive')\n",
    "base_drive_path = '/content/drive/MyDrive/Colab Notebooks/melanoma_classification'\n",
    "os.chdir(base_drive_path)\n",
    "\n",
    "if os.path.exists(os.path.join(base_drive_path, '.git')):\n",
    "    branch = \"main\"\n",
    "    print(f\"Git repository exists. Pulling from {branch} branch...\")\n",
    "    !git pull origin {branch}\n",
    "else:\n",
    "    print(\"Initializing git repository...\")\n",
    "    !git init\n",
    "    !git remote add origin https://github.com/monezamipoor/melanoma_classification.git\n",
    "    !git fetch\n",
    "    !git reset --hard origin/main 2>/dev/null || git reset --hard origin/master\n"
   ],
   "outputs": [],
   "execution_count": null
  },
  {
   "metadata": {},
   "cell_type": "code",
   "outputs": [],
   "execution_count": null,
   "source": [
    "if os.path.exists('requirements.txt'):\n",
    "    print(\"Installing requirements...\")\n",
    "    !pip install -r requirements.txt"
   ]
  },
  {
   "cell_type": "code",
   "source": [
    "!python main.py --opt default.yml"
   ],
   "metadata": {
    "colab": {
     "base_uri": "https://localhost:8080/"
    },
    "id": "NPlPCOt3B1aw",
    "executionInfo": {
     "status": "ok",
     "timestamp": 1742837590373,
     "user_tz": 0,
     "elapsed": 8027,
     "user": {
      "displayName": "Mohammad Nezamipoor",
      "userId": "18397506278047624525"
     }
    },
    "outputId": "915e0464-d477-404a-deaf-e161a3fa5fd7"
   },
   "outputs": [],
   "execution_count": null
  }
 ]
}
