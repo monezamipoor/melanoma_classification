!git config --global user.email "ashkan@gmail.com"
!git config --global user.name "ash"

import os
from google.colab import drive

print("Mounting Google Drive...")
drive.mount('/content/drive')

# Set your base path for the repository folder.
base_drive_path = '/content/drive/MyDrive/melanoma_classification'
os.chdir(base_drive_path)

# Check if the repository is initialized
if os.path.exists(os.path.join(base_drive_path, '.git')):
    branch = "As-branch"
    print(f"Git repository exists. Switching to branch {branch}...")
    !git checkout {branch}
    !git pull origin {branch}
else:
    print("Initializing git repository...")
    !git init
    # !git remote add origin https://github.com/monezamipoor/melanoma_classification.git
    !git remote set-url origin https://github.com/monezamipoor/melanoma_classification.git


    !git fetch
    # If you want to start on your branch, you can create and check it out:
    !git checkout -b As-branch origin/As-branch 2>/dev/null || git checkout -b As-branch

!git remote set-url origin https://github.com/monezamipoor/melanoma_classification.git


# !git pull origin As-branch
!git rebase --continue

!git add melanoma_classification.ipynb
!git commit -m "Update jupyter2"
!git pull --rebase origin As-branch

!rm -rf .git/rebase-merge


!git merge --abort

# Stage all changes
!git add melanoma_classification.ipynb

# Commit changes with your message
!git commit -m "Update notebook until 04/04"

# Push your changes to the remote branch
!git push origin As-branch


!git checkout As-branch

import os
print("Current working directory:", os.getcwd())
print("Files in the directory:", os.listdir())

!unzip /content/drive/MyDrive/mel_data.zip -d /content/Melanoma

!pip install -r requirements.txt

import timm
models_list = timm.list_models(filter='vit*', pretrained=True)
print(models_list)

!python main.py --opt default.yml
