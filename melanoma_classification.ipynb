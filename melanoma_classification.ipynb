{
"cells": [
 {
  "cell_type": "code",
  "execution_count": 7,
  "metadata": {
   "ExecuteTime": {
    "end_time": "2025-04-04T20:40:20.878331Z",
    "start_time": "2025-04-04T20:40:20.724298Z"
   },
   "collapsed": false
  },
  "outputs": [],
  "source": [
   "!git config --global user.email \"ashkan132@gmail.com\"\n",
   "!git config --global user.name \"ashkanfard132\""
  ]
 },
 {
  "cell_type": "code",
  "execution_count": 4,
  "metadata": {
   "ExecuteTime": {
    "end_time": "2025-04-04T20:38:29.406943Z",
    "start_time": "2025-04-04T20:38:29.382734Z"
   },
   "collapsed": false
  },
  "outputs": [
   {
    "ename": "ModuleNotFoundError",
    "evalue": "No module named 'google.colab'",
    "output_type": "error",
    "traceback": [
     "\u001b[31m---------------------------------------------------------------------------\u001b[39m",
     "\u001b[31mModuleNotFoundError\u001b[39m                       Traceback (most recent call last)",
     "\u001b[36mCell\u001b[39m\u001b[36m \u001b[39m\u001b[32mIn[4]\u001b[39m\u001b[32m, line 2\u001b[39m\n\u001b[32m      1\u001b[39m \u001b[38;5;28;01mimport\u001b[39;00m\u001b[38;5;250m \u001b[39m\u001b[34;01mos\u001b[39;00m\n\u001b[32m----> \u001b[39m\u001b[32m2\u001b[39m \u001b[38;5;28;01mfrom\u001b[39;00m\u001b[38;5;250m \u001b[39m\u001b[34;01mgoogle\u001b[39;00m\u001b[34;01m.\u001b[39;00m\u001b[34;01mcolab\u001b[39;00m\u001b[38;5;250m \u001b[39m\u001b[38;5;28;01mimport\u001b[39;00m drive\n\u001b[32m      4\u001b[39m \u001b[38;5;28mprint\u001b[39m(\u001b[33m\"\u001b[39m\u001b[33mMounting Google Drive...\u001b[39m\u001b[33m\"\u001b[39m)\n\u001b[32m      5\u001b[39m drive.mount(\u001b[33m'\u001b[39m\u001b[33m/content/drive\u001b[39m\u001b[33m'\u001b[39m)\n",
     "\u001b[31mModuleNotFoundError\u001b[39m: No module named 'google.colab'"
    ]
   }
  ],

   "    !git fetch\n",
   "    # If you want to start on your branch, you can create and check it out:\n",
   "    !git checkout -b As-branch origin/As-branch 2>/dev/null || git checkout -b As-branch"
  ]
 },
 {
  "cell_type": "code",
  "execution_count": 9,
  "metadata": {
   "ExecuteTime": {
    "end_time": "2025-04-04T20:40:34.569256Z",
    "start_time": "2025-04-04T20:40:33.360294Z"
   },
   "collapsed": false
  },
  "outputs": [
   {
    "name": "stderr",

    "name": "stdout",
    "output_type": "stream",
    "text": [
     "[As-branch 3b16876e] Update notebook\n",
     " 1 file changed, 39 insertions(+), 8 deletions(-)\n"
    ]
   },
   {

   "\n",
   "# Push your changes to the remote branch\n",
   "!git push --force origin As-branch"
  ]
 },
 {
  "cell_type": "code",
  "execution_count": null,
  "metadata": {
   "collapsed": false
  },
  "outputs": [],
  "source": [
   "!git checkout As-branch"
  ]
 },
 {
  "cell_type": "code",
  "execution_count": null,
  "metadata": {
   "collapsed": false
  },
  "outputs": [],
  "source": [
   "import os\n",
   "print(\"Current working directory:\", os.getcwd())\n",
   "print(\"Files in the directory:\", os.listdir())"
  ]
 },
 {
  "cell_type": "code",
  "execution_count": null,
  "metadata": {
   "collapsed": false
  },
  "outputs": [],
  "source": [
   "!unzip /content/drive/MyDrive/mel_data.zip -d /content/Melanoma"
  ]
 },
 {
  "cell_type": "code",
  "execution_count": null,
  "metadata": {
   "collapsed": false
  },
  "outputs": [],
  "source": [
   "!pip install -r requirements.txt"
  ]
 },
 {
  "cell_type": "code",
  "execution_count": null,
  "metadata": {
   "collapsed": false
  },
  "outputs": [],
  "source": [
   "import timm\n",
   "models_list = timm.list_models(filter='vit*', pretrained=True)\n",
   "print(models_list)"
  ]
 },
 {
  "cell_type": "code",
  "execution_count": null,
  "metadata": {
   "collapsed": false
  },
  "outputs": [],
  "source": [
   "!python main.py --opt default.yml"
  ]
 }
],
"metadata": {

  "provenance": []
 },
 "kernelspec": {
  "display_name": "Python 3 (ipykernel)",
  "language": "python",
  "name": "python3"
 },
 "language_info": {
  "codemirror_mode": {
   "name": "ipython",
   "version": 3
  },
  "file_extension": ".py",
  "mimetype": "text/x-python",
  "name": "python",
  "nbconvert_exporter": "python",
  "pygments_lexer": "ipython3",
  "version": "3.11.5"
 }
},
"nbformat": 4,
"nbformat_minor": 0
}
